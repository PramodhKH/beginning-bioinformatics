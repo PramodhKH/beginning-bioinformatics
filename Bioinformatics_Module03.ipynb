{
  "nbformat": 4,
  "nbformat_minor": 0,
  "metadata": {
    "colab": {
      "provenance": [],
      "collapsed_sections": [
        "_F9KCUzCd3ID"
      ],
      "include_colab_link": true
    },
    "kernelspec": {
      "name": "python3",
      "display_name": "Python 3"
    },
    "language_info": {
      "name": "python"
    }
  },
  "cells": [
    {
      "cell_type": "markdown",
      "metadata": {
        "id": "view-in-github",
        "colab_type": "text"
      },
      "source": [
        "<a href=\"https://colab.research.google.com/github/PramodhKH/beginning-bioinformatics/blob/main/Bioinformatics_Module03.ipynb\" target=\"_parent\"><img src=\"https://colab.research.google.com/assets/colab-badge.svg\" alt=\"Open In Colab\"/></a>"
      ]
    },
    {
      "cell_type": "markdown",
      "source": [
        "# **<font color=blue>P1.** </font>Rename this notebook **Bioinformatics_Module03.ipynb </font><br>**"
      ],
      "metadata": {
        "id": "l3h89jAYBUzz"
      }
    },
    {
      "cell_type": "markdown",
      "source": [
        "# **<font color=blue>P2. </font>**```print()```writes to standard output (i.e. prints output to the screen)"
      ],
      "metadata": {
        "id": "jYlnA2Z2FhoW"
      }
    },
    {
      "cell_type": "markdown",
      "source": [
        "####**TASK P2.1:** Print <font color = magenta>hello world</font>"
      ],
      "metadata": {
        "id": "r118fqQodA9x"
      }
    },
    {
      "cell_type": "code",
      "source": [
        "print(\"hello world\")"
      ],
      "metadata": {
        "id": "kvxK8D5uFx_x",
        "colab": {
          "base_uri": "https://localhost:8080/"
        },
        "outputId": "3062fb7a-79e2-498a-b28f-14b04eeb9595"
      },
      "execution_count": 42,
      "outputs": [
        {
          "output_type": "stream",
          "name": "stdout",
          "text": [
            "hello world\n"
          ]
        }
      ]
    },
    {
      "cell_type": "markdown",
      "source": [
        "# **<font color=blue>P3. </font>**```=``` is the ASSIGNMENT operator (assigns values to variables)\n",
        "####**TASK P3.1:** Ask Gemini, \"*Give me 3 examples to help practice understanding the assignment operator.*\""
      ],
      "metadata": {
        "id": "qRj8vCvXG-1k"
      }
    },
    {
      "cell_type": "code",
      "source": [
        "x=5\n",
        "x"
      ],
      "metadata": {
        "id": "VB8HPNe7JpuJ",
        "colab": {
          "base_uri": "https://localhost:8080/"
        },
        "outputId": "594d82ea-d88f-4c91-cc10-1b2b80ed5abc"
      },
      "execution_count": 43,
      "outputs": [
        {
          "output_type": "execute_result",
          "data": {
            "text/plain": [
              "5"
            ]
          },
          "metadata": {},
          "execution_count": 43
        }
      ]
    },
    {
      "cell_type": "markdown",
      "source": [
        "# **<font color=blue>P4. </font>** Data types: use ```type()``` to find a variable's \"type\"\n",
        "####**TASK P4.1:** Ask Gemini, \"*Give me examples of each data type to see how they look as outputs.*\""
      ],
      "metadata": {
        "id": "s7deJQCHHwOa"
      }
    },
    {
      "cell_type": "code",
      "source": [
        "type(x)"
      ],
      "metadata": {
        "colab": {
          "base_uri": "https://localhost:8080/"
        },
        "id": "ktR75uWIJ0uc",
        "outputId": "22990b20-56ad-4fe3-a2a7-bca2ec4ed330"
      },
      "execution_count": 44,
      "outputs": [
        {
          "output_type": "execute_result",
          "data": {
            "text/plain": [
              "int"
            ]
          },
          "metadata": {},
          "execution_count": 44
        }
      ]
    },
    {
      "cell_type": "markdown",
      "source": [
        "# **<font color=blue>P5. </font>** Arithmetic and comparison operators\n",
        "####**TASK P5.1:**   Complete Rosalind #1"
      ],
      "metadata": {
        "id": "GtjxkNHWN5Xo"
      }
    },
    {
      "cell_type": "code",
      "source": [
        "y=2+3\n",
        "print(y)\n",
        "x==y"
      ],
      "metadata": {
        "id": "45s9c4vyQm2U",
        "colab": {
          "base_uri": "https://localhost:8080/"
        },
        "outputId": "d84350e7-4e6e-4a90-aa64-98524946f0df"
      },
      "execution_count": 45,
      "outputs": [
        {
          "output_type": "stream",
          "name": "stdout",
          "text": [
            "5\n"
          ]
        },
        {
          "output_type": "execute_result",
          "data": {
            "text/plain": [
              "True"
            ]
          },
          "metadata": {},
          "execution_count": 45
        }
      ]
    },
    {
      "cell_type": "markdown",
      "source": [
        "# **<font color=blue>P6. </font>** ```input()``` gets input from the user"
      ],
      "metadata": {
        "id": "3yswDberkE7N"
      }
    },
    {
      "cell_type": "markdown",
      "source": [
        "TASK P6.1"
      ],
      "metadata": {
        "id": "z97rSY9gqdad"
      }
    },
    {
      "cell_type": "code",
      "metadata": {
        "colab": {
          "base_uri": "https://localhost:8080/"
        },
        "id": "d91046dd",
        "outputId": "a1edcdc6-a984-4837-8c11-87ec46f2d4fd"
      },
      "source": [
        "name = input(\"Enter your name: \")\n",
        "print(\"Hello, \" + name)"
      ],
      "execution_count": 46,
      "outputs": [
        {
          "output_type": "stream",
          "name": "stdout",
          "text": [
            "Enter your name: Pramodh Kumar Harinathan\n",
            "Hello, Pramodh Kumar Harinathan\n"
          ]
        }
      ]
    },
    {
      "cell_type": "markdown",
      "source": [
        "####**TASK P6.1:** Solve Rosalind #1 again, but get user input for the values of a and b rather than modifying the code."
      ],
      "metadata": {
        "id": "e3LaAQeLRmE6"
      }
    },
    {
      "cell_type": "code",
      "source": [
        "a= int(input(\"enter a value for a:\"))\n",
        "b= int(input(\"enter a value for b:\"))\n",
        "c=a**2+b**2\n",
        "print (\"The sq of the hypotenuse is\",c)"
      ],
      "metadata": {
        "id": "wZ0XL0L6Rq2H",
        "colab": {
          "base_uri": "https://localhost:8080/"
        },
        "outputId": "26c0c4b0-e662-44ba-8d39-f83d0b385d3c"
      },
      "execution_count": 47,
      "outputs": [
        {
          "output_type": "stream",
          "name": "stdout",
          "text": [
            "enter a value for a:835\n",
            "enter a value for b:895\n",
            "The sq of the hypotenuse is 1498250\n"
          ]
        }
      ]
    },
    {
      "cell_type": "markdown",
      "source": [
        "# **<font color=blue>P7. </font>** ```list``` type variables (create, replace, append)"
      ],
      "metadata": {
        "id": "4IM-9eAGkPdi"
      }
    },
    {
      "cell_type": "markdown",
      "source": [
        "####**TASK P7.1**"
      ],
      "metadata": {
        "id": "DhNGdYK6NEpe"
      }
    },
    {
      "cell_type": "code",
      "source": [
        "# Create a list with 3 elements and then print them\n",
        "\n",
        "my_list = [\"Hello\", \"World\", \"Charles Darwin\"]\n",
        "print (my_list[1])"
      ],
      "metadata": {
        "id": "N3VRRQIEkXuP",
        "colab": {
          "base_uri": "https://localhost:8080/"
        },
        "outputId": "5e3035ba-8775-4054-ad15-6a32b6b93f6b"
      },
      "execution_count": 48,
      "outputs": [
        {
          "output_type": "stream",
          "name": "stdout",
          "text": [
            "World\n"
          ]
        }
      ]
    },
    {
      "cell_type": "markdown",
      "source": [
        "####**TASK P7.2**"
      ],
      "metadata": {
        "id": "Yn3bAoi8NKy5"
      }
    },
    {
      "cell_type": "code",
      "source": [
        "# Substitute the item at index 2 in the list\n",
        "my_list[2] = \"Alfred R. Wallace\"\n",
        "print (my_list)"
      ],
      "metadata": {
        "id": "WNnsUuduOKbI",
        "colab": {
          "base_uri": "https://localhost:8080/"
        },
        "outputId": "cac900e0-9bb9-4ee8-a408-5f5f37a3e47d"
      },
      "execution_count": 49,
      "outputs": [
        {
          "output_type": "stream",
          "name": "stdout",
          "text": [
            "['Hello', 'World', 'Alfred R. Wallace']\n"
          ]
        }
      ]
    },
    {
      "cell_type": "markdown",
      "source": [
        "####**TASK P7.3**"
      ],
      "metadata": {
        "id": "SxiMMNLyPwGV"
      }
    },
    {
      "cell_type": "code",
      "source": [
        "# Append an item to the end of the list\n",
        "my_list.append(\"Charles Darwin\")\n",
        "print (my_list)"
      ],
      "metadata": {
        "id": "3VrLc6CGQTi-",
        "colab": {
          "base_uri": "https://localhost:8080/"
        },
        "outputId": "5762d528-523b-40aa-f286-0c9326aff915"
      },
      "execution_count": 50,
      "outputs": [
        {
          "output_type": "stream",
          "name": "stdout",
          "text": [
            "['Hello', 'World', 'Alfred R. Wallace', 'Charles Darwin']\n"
          ]
        }
      ]
    },
    {
      "cell_type": "markdown",
      "source": [
        "####**TASK P7.4**. Ask Gemini how to <font color=crimson>```insert```</font> a new item at index 1 in the list"
      ],
      "metadata": {
        "id": "XQKmwgbfQond"
      }
    },
    {
      "cell_type": "code",
      "source": [
        "# On line #2 insert an item at index 1 of my_list\n",
        "\n",
        "print (my_list)"
      ],
      "metadata": {
        "id": "u0maP5CZZN13",
        "colab": {
          "base_uri": "https://localhost:8080/"
        },
        "outputId": "42c30eed-6eb0-42b5-95fb-42f195719bdd"
      },
      "execution_count": 51,
      "outputs": [
        {
          "output_type": "stream",
          "name": "stdout",
          "text": [
            "['Hello', 'World', 'Alfred R. Wallace', 'Charles Darwin']\n"
          ]
        }
      ]
    },
    {
      "cell_type": "markdown",
      "source": [
        "# **<font color=blue>P8. </font>** Slicing lists and strings"
      ],
      "metadata": {
        "id": "nlBbe3qBRH_J"
      }
    },
    {
      "cell_type": "markdown",
      "source": [
        "####**TASK P8.1** Slice and print only the middle two elements from the list created in P7 (i.e. only <font color=magenta>World</font> and <font color=magenta>Alfred R. Wallace</font>).  "
      ],
      "metadata": {
        "id": "M0YW2MP0WtuI"
      }
    },
    {
      "cell_type": "code",
      "source": [
        "print (my_list[2:4])"
      ],
      "metadata": {
        "colab": {
          "base_uri": "https://localhost:8080/"
        },
        "id": "Tp1djNtiaxSb",
        "outputId": "46758275-b552-463d-ed78-1e1feb54f66a"
      },
      "execution_count": 52,
      "outputs": [
        {
          "output_type": "stream",
          "name": "stdout",
          "text": [
            "['Alfred R. Wallace', 'Charles Darwin']\n"
          ]
        }
      ]
    },
    {
      "cell_type": "markdown",
      "source": [
        "####**TASK P8.2**: Print <font color=magenta>Wallace World</font> from **my_string** by slicing\n"
      ],
      "metadata": {
        "id": "_F9KCUzCd3ID"
      }
    },
    {
      "cell_type": "code",
      "source": [
        "my_string = \"HelloWorldCharlesDarwinAlfred R. Walace\"\n",
        "print (my_string[0:5],my_string[5:10])\n",
        "\n",
        "# in the print command below input the correct index values to complete Task P8.2\n",
        "print (my_string[ : ],my_string[ : ])"
      ],
      "metadata": {
        "colab": {
          "base_uri": "https://localhost:8080/"
        },
        "id": "AafKngtba8En",
        "outputId": "f293b76c-6d13-441d-cdd1-f2d6673f7c80"
      },
      "execution_count": 53,
      "outputs": [
        {
          "output_type": "stream",
          "name": "stdout",
          "text": [
            "Hello World\n",
            "HelloWorldCharlesDarwinAlfred R. Walace HelloWorldCharlesDarwinAlfred R. Walace\n"
          ]
        }
      ]
    },
    {
      "cell_type": "markdown",
      "source": [
        "####**TASK P8.3**  **<font color = orange> Complete Rosalind Problem #2 Strings and Lists</font>**"
      ],
      "metadata": {
        "id": "2TTQVE-Xf8jR"
      }
    },
    {
      "cell_type": "code",
      "source": [
        "# Enter code for Rosalind 2 here:\n",
        "my_string = \"TcPwa8USphenurusdVGrhmRKuh55urUXGZZzJHDvmBfUliU5Li9VDOzqDYcKfemoralislJFS1PILaBN9R21YUX8LrTUrAJObx1p6gpkFfuQaZ6UsPv2W9wovwqOy2aGaHO5yUhFN4HZuRRbVwpD9FMouaQNAkpBMxJM7SOBoTqug9xUEXDUDaSq019z7U.\"\n",
        "print (my_string[7:16],my_string[60:69])\n"
      ],
      "metadata": {
        "id": "LI88f5RZh4GL",
        "colab": {
          "base_uri": "https://localhost:8080/"
        },
        "outputId": "0fd05014-a44a-40ca-9716-dd7b2e1564b5"
      },
      "execution_count": 54,
      "outputs": [
        {
          "output_type": "stream",
          "name": "stdout",
          "text": [
            "Sphenurus femoralis\n"
          ]
        }
      ]
    },
    {
      "cell_type": "markdown",
      "source": [
        "####**<font color=crimson>TASK 8.4 Commit to GitHub**</font>*italicized text*"
      ],
      "metadata": {
        "id": "Tw6Pwh6TjwJ9"
      }
    },
    {
      "cell_type": "markdown",
      "source": [
        "# **<font color=blue>P9. </font>** ```if``` and ```else``` - conditional output"
      ],
      "metadata": {
        "id": "iHFNxm30lzic"
      }
    },
    {
      "cell_type": "markdown",
      "source": [
        "####**TASK P9.1** Create some code that subtracts two numbers if they are different or adds them if they are the same."
      ],
      "metadata": {
        "id": "WCXnGdftztbN"
      }
    },
    {
      "cell_type": "code",
      "source": [
        "a=5\n",
        "b=5\n",
        "\n",
        "if a!=b:\n",
        "  print(a-b)\n",
        "\n",
        "else:\n",
        "  print(a+b)"
      ],
      "metadata": {
        "id": "KabZsL5Fy8jJ",
        "colab": {
          "base_uri": "https://localhost:8080/"
        },
        "outputId": "cebdd1f9-96cd-4c2b-b46a-aad55a5b4a29"
      },
      "execution_count": 55,
      "outputs": [
        {
          "output_type": "stream",
          "name": "stdout",
          "text": [
            "10\n"
          ]
        }
      ]
    },
    {
      "cell_type": "markdown",
      "source": [
        "# **<font color=blue>P10.</font>** ```while``` loops"
      ],
      "metadata": {
        "id": "sOgq54Op4MZL"
      }
    },
    {
      "cell_type": "markdown",
      "source": [
        "####**TASK P10.1** Create a while loop that runs 3 times\n"
      ],
      "metadata": {
        "id": "JMqGqhTn4l9s"
      }
    },
    {
      "cell_type": "code",
      "source": [
        "#initiate a counter\n",
        "a = 1\n",
        "\n",
        "#print \"Counting!\" while a<=3\n",
        "while a <= 3:\n",
        "\n",
        "    print (\"Counting!\" * a)\n",
        "    a += 1"
      ],
      "metadata": {
        "id": "07YbiCGO4O1w",
        "colab": {
          "base_uri": "https://localhost:8080/"
        },
        "outputId": "f88ef9fb-d534-4668-83c8-69c95b51a1fd"
      },
      "execution_count": 56,
      "outputs": [
        {
          "output_type": "stream",
          "name": "stdout",
          "text": [
            "Counting!\n",
            "Counting!Counting!\n",
            "Counting!Counting!Counting!\n"
          ]
        }
      ]
    },
    {
      "cell_type": "markdown",
      "source": [
        "# **<font color=blue>P11.</font>** ```for``` loops – looping over lists"
      ],
      "metadata": {
        "id": "R5_dYi9f6t1z"
      }
    },
    {
      "cell_type": "markdown",
      "source": [
        "####**TASK P11.1** Create a for loop to print each item in a list\n"
      ],
      "metadata": {
        "id": "x9F7v_V073wO"
      }
    },
    {
      "cell_type": "code",
      "source": [
        "names = [\"Alice\",\"Bob\",\"Charley\"]\n",
        "\n",
        "for name in names:\n",
        "    print (\"Hello\", name)"
      ],
      "metadata": {
        "id": "-aqaQ5hz70yo",
        "colab": {
          "base_uri": "https://localhost:8080/"
        },
        "outputId": "3c9632a4-be80-45b2-d6d1-fe5f4087b8dc"
      },
      "execution_count": 57,
      "outputs": [
        {
          "output_type": "stream",
          "name": "stdout",
          "text": [
            "Hello Alice\n",
            "Hello Bob\n",
            "Hello Charley\n"
          ]
        }
      ]
    },
    {
      "cell_type": "markdown",
      "source": [
        "# **<font color=blue>P12.</font>** ```for``` loops over a ```range()```of numbers"
      ],
      "metadata": {
        "id": "LdtXZ0LW9ugo"
      }
    },
    {
      "cell_type": "markdown",
      "source": [
        "####**TASK 12.1** Using for and range(), create code that prints the numbers 0-9"
      ],
      "metadata": {
        "id": "jG6jvXEBDi4H"
      }
    },
    {
      "cell_type": "code",
      "source": [
        "# Create a variable to define the  number of iterations\n",
        "iterations = 10\n",
        "\n",
        "#Print the current item's value each time through the loop\n",
        "for number in range(iterations):\n",
        "    print (number)"
      ],
      "metadata": {
        "colab": {
          "base_uri": "https://localhost:8080/"
        },
        "id": "RFBXqQNu_E6X",
        "outputId": "8481b788-7023-4a45-b70c-2fea313e662f"
      },
      "execution_count": 58,
      "outputs": [
        {
          "output_type": "stream",
          "name": "stdout",
          "text": [
            "0\n",
            "1\n",
            "2\n",
            "3\n",
            "4\n",
            "5\n",
            "6\n",
            "7\n",
            "8\n",
            "9\n"
          ]
        }
      ]
    },
    {
      "cell_type": "markdown",
      "source": [
        "####**TASK 12.2** Modify the code so that it only prints every 3rd number from 9 through 27 (i.e. including 27)"
      ],
      "metadata": {
        "id": "NRd5srR_G-PQ"
      }
    },
    {
      "cell_type": "code",
      "source": [
        "for number in range(9, 28, 3):\n",
        "    print (number)"
      ],
      "metadata": {
        "id": "irYTFPO-IRHo",
        "colab": {
          "base_uri": "https://localhost:8080/"
        },
        "outputId": "48e7753a-32ee-484e-fc9a-98183c603fe8"
      },
      "execution_count": 59,
      "outputs": [
        {
          "output_type": "stream",
          "name": "stdout",
          "text": [
            "9\n",
            "12\n",
            "15\n",
            "18\n",
            "21\n",
            "24\n",
            "27\n"
          ]
        }
      ]
    },
    {
      "cell_type": "markdown",
      "source": [
        "####**TASK 12.3** <font color = orange> **Complete Rosalind Problem #3 Conditions and Loops** </font>"
      ],
      "metadata": {
        "id": "83jDEjpMHXUa"
      }
    },
    {
      "cell_type": "code",
      "source": [
        "# Enter code for Rosalind 3 here:\n",
        "a, b = 4065, 8619\n",
        "\n",
        "odd_sum = 0\n",
        "\n",
        "for x in range(a, b+1):\n",
        "    if x % 2 == 1:\n",
        "        odd_sum += x\n",
        "\n",
        "print(odd_sum)"
      ],
      "metadata": {
        "id": "EI7hRtakG90R",
        "colab": {
          "base_uri": "https://localhost:8080/"
        },
        "outputId": "2b410a7b-d31b-4e8e-f04e-9e7f4ff90fe9"
      },
      "execution_count": 60,
      "outputs": [
        {
          "output_type": "stream",
          "name": "stdout",
          "text": [
            "14447076\n"
          ]
        }
      ]
    },
    {
      "cell_type": "markdown",
      "source": [
        "####**<font color=crimson>TASK 12.4 Commit to GitHub**</font>"
      ],
      "metadata": {
        "id": "3P9DKNbPI1wp"
      }
    },
    {
      "cell_type": "markdown",
      "source": [
        "# **<font color=blue>P13.</font>** File I/O – with open(\"filename\", \"mode\") as filehandle:\n"
      ],
      "metadata": {
        "id": "i4Fo-ddSKWwy"
      }
    },
    {
      "cell_type": "markdown",
      "source": [
        "####**TASK P13.1** Use the ```read()``` function to print the <font color = orange>practice dataset from Rosalind #4</font>\n"
      ],
      "metadata": {
        "id": "sgc3wiQmLXcI"
      }
    },
    {
      "cell_type": "code",
      "source": [
        "with open(\"practice.txt\",\"r\") as data:\n",
        "\n",
        "    print(data.read())\n",
        "\n",
        "    print(data.readline())\n",
        "\n",
        "    print(data.readlines())"
      ],
      "metadata": {
        "id": "V5nzHsnULA_n",
        "colab": {
          "base_uri": "https://localhost:8080/"
        },
        "outputId": "94f9e2da-dc6b-4d21-f429-abc186d460eb"
      },
      "execution_count": 61,
      "outputs": [
        {
          "output_type": "stream",
          "name": "stdout",
          "text": [
            ">Rosalind_6404\n",
            "CCTGCGGAAGATCGGCACTAGAATAGCCAGAACCGTTTCTCTGAGGCTTCCGGCCTTCCC\n",
            "TCCCACTAATAATTCTGAGG\n",
            ">Rosalind_5959\n",
            "CCATCGGTAGCGCATCCTTAGTCCAATTAAGTCCCTATCCAGGCGCTCCGCCGAAGGTCT\n",
            "ATATCCATTTGTCAGCAGACACGC\n",
            ">Rosalind_0808\n",
            "CCACCCTCGTGGTATGGCTAGGCATTCAGGAACCGGAGAACGCTTCAGACCAGCCCGGAC\n",
            "TGGGAACCTGCGGGCAGTAGGTGGAAT\n",
            "\n",
            "[]\n"
          ]
        }
      ]
    },
    {
      "cell_type": "markdown",
      "source": [
        "####**TASK P13.2** Explore file object functions to read and print practice.txt"
      ],
      "metadata": {
        "id": "GLO6tBYNVzYZ"
      }
    },
    {
      "cell_type": "markdown",
      "source": [
        "#<font color=blue>**P14.**</font> Store the content, close the file, and join ( ) the list"
      ],
      "metadata": {
        "id": "iupO8iI-ZYAe"
      }
    },
    {
      "cell_type": "code",
      "source": [
        "with open(\"practice.txt\",\"r\") as data:\n",
        "\n",
        "  list_of_lines=data.readlines()\n",
        "\n",
        "print (list_of_lines)"
      ],
      "metadata": {
        "id": "8U5w2qOudDyp",
        "colab": {
          "base_uri": "https://localhost:8080/"
        },
        "outputId": "ac7bcba7-9199-493b-9c54-56bff6314e71"
      },
      "execution_count": 62,
      "outputs": [
        {
          "output_type": "stream",
          "name": "stdout",
          "text": [
            "['>Rosalind_6404\\n', 'CCTGCGGAAGATCGGCACTAGAATAGCCAGAACCGTTTCTCTGAGGCTTCCGGCCTTCCC\\n', 'TCCCACTAATAATTCTGAGG\\n', '>Rosalind_5959\\n', 'CCATCGGTAGCGCATCCTTAGTCCAATTAAGTCCCTATCCAGGCGCTCCGCCGAAGGTCT\\n', 'ATATCCATTTGTCAGCAGACACGC\\n', '>Rosalind_0808\\n', 'CCACCCTCGTGGTATGGCTAGGCATTCAGGAACCGGAGAACGCTTCAGACCAGCCCGGAC\\n', 'TGGGAACCTGCGGGCAGTAGGTGGAAT']\n"
          ]
        }
      ]
    },
    {
      "cell_type": "markdown",
      "source": [
        "####**TASK P14.1** Read practice.txt into a list of lines. Then, after the file is closed, use the join ( ) function to print the contents so it looks like the original input."
      ],
      "metadata": {
        "id": "5pPhGmQYiiKx"
      }
    },
    {
      "cell_type": "code",
      "source": [
        "print (\"\".join(list_of_lines))"
      ],
      "metadata": {
        "id": "XLvFZ9uSeyYH",
        "colab": {
          "base_uri": "https://localhost:8080/"
        },
        "outputId": "3d513544-7c85-4c60-b603-aad082a48824"
      },
      "execution_count": 63,
      "outputs": [
        {
          "output_type": "stream",
          "name": "stdout",
          "text": [
            ">Rosalind_6404\n",
            "CCTGCGGAAGATCGGCACTAGAATAGCCAGAACCGTTTCTCTGAGGCTTCCGGCCTTCCC\n",
            "TCCCACTAATAATTCTGAGG\n",
            ">Rosalind_5959\n",
            "CCATCGGTAGCGCATCCTTAGTCCAATTAAGTCCCTATCCAGGCGCTCCGCCGAAGGTCT\n",
            "ATATCCATTTGTCAGCAGACACGC\n",
            ">Rosalind_0808\n",
            "CCACCCTCGTGGTATGGCTAGGCATTCAGGAACCGGAGAACGCTTCAGACCAGCCCGGAC\n",
            "TGGGAACCTGCGGGCAGTAGGTGGAAT\n"
          ]
        }
      ]
    },
    {
      "cell_type": "markdown",
      "source": [
        "#<font color=blue>**P15.**</font> Combining for loops with file objects"
      ],
      "metadata": {
        "id": "lY924yM0jckW"
      }
    },
    {
      "cell_type": "markdown",
      "source": [
        "####**TASK P15.1** Use a for loop to print each line in practice.txt"
      ],
      "metadata": {
        "id": "NvqGEl4JjpiO"
      }
    },
    {
      "cell_type": "code",
      "source": [
        "with open(\"practice.txt\",\"r\") as data:\n",
        "\n",
        "  for line in data:\n",
        "    print (line)"
      ],
      "metadata": {
        "id": "snY-10pUkMby",
        "colab": {
          "base_uri": "https://localhost:8080/"
        },
        "outputId": "e0d364c7-f533-4ba4-8ba6-64c19f718cd0"
      },
      "execution_count": 64,
      "outputs": [
        {
          "output_type": "stream",
          "name": "stdout",
          "text": [
            ">Rosalind_6404\n",
            "\n",
            "CCTGCGGAAGATCGGCACTAGAATAGCCAGAACCGTTTCTCTGAGGCTTCCGGCCTTCCC\n",
            "\n",
            "TCCCACTAATAATTCTGAGG\n",
            "\n",
            ">Rosalind_5959\n",
            "\n",
            "CCATCGGTAGCGCATCCTTAGTCCAATTAAGTCCCTATCCAGGCGCTCCGCCGAAGGTCT\n",
            "\n",
            "ATATCCATTTGTCAGCAGACACGC\n",
            "\n",
            ">Rosalind_0808\n",
            "\n",
            "CCACCCTCGTGGTATGGCTAGGCATTCAGGAACCGGAGAACGCTTCAGACCAGCCCGGAC\n",
            "\n",
            "TGGGAACCTGCGGGCAGTAGGTGGAAT\n"
          ]
        }
      ]
    },
    {
      "cell_type": "markdown",
      "source": [
        "####**TASK P15.2** <font color=orange>**Complete Rosalind Problem #4 Working with Files**</font>\n"
      ],
      "metadata": {
        "id": "DHzE7CI4lWGw"
      }
    },
    {
      "cell_type": "code",
      "source": [
        "input_file = \"rosalind_ini5.txt\"\n",
        "def print_even_lines(input_file):\n",
        "    with open(input_file, \"r\") as infile:\n",
        "        for idx, line in enumerate(infile, start=1):\n",
        "            if idx % 2 == 0:   # even-numbered line\n",
        "                print(line.strip())\n",
        "\n",
        "# Example usage\n",
        "print_even_lines(\"rosalind_ini5.txt\")\n"
      ],
      "metadata": {
        "id": "8QR9dRFtltBN",
        "colab": {
          "base_uri": "https://localhost:8080/"
        },
        "outputId": "ba6d8840-ef7c-4140-daf0-f0644c35f47b"
      },
      "execution_count": 65,
      "outputs": [
        {
          "output_type": "stream",
          "name": "stdout",
          "text": [
            "Some things in life are bad, they can really make you mad\n",
            "Other things just make you swear and curse\n",
            "When you're chewing on life's gristle, don't grumble give a whistle\n",
            "This will help things turn out for the best\n",
            "Always look on the bright side of life\n",
            "Always look on the right side of life\n",
            "If life seems jolly rotten, there's something you've forgotten\n",
            "And that's to laugh and smile and dance and sing\n",
            "When you're feeling in the dumps, don't be silly, chumps\n",
            "Just purse your lips and whistle, that's the thing\n",
            "So, always look on the bright side of death\n",
            "Just before you draw your terminal breath\n",
            "Life's a counterfeit and when you look at it\n",
            "Life's a laugh and death's the joke, it's true\n",
            "You see, it's all a show, keep them laughing as you go\n",
            "Just remember the last laugh is on you\n",
            "Always look on the bright side of life\n",
            "And always look on the right side of life\n",
            "Always look on the bright side of life\n",
            "And always look on the right side of life\n"
          ]
        }
      ]
    },
    {
      "cell_type": "markdown",
      "source": [
        "####**<font color=crimson>TASK 15.4 Commit to GitHub**</font>"
      ],
      "metadata": {
        "id": "GJ_acW4WlwDn"
      }
    },
    {
      "cell_type": "markdown",
      "source": [
        "#<font color=blue>**P16.**</font> ```for word in line.split()``` – looping over strings and splitting by any delimiter"
      ],
      "metadata": {
        "id": "WD5wnvQkmh6E"
      }
    },
    {
      "cell_type": "markdown",
      "source": [
        "####**TASK P16.1** Print each word in the ROSALIND Problem #5 Sample Dataset on a separate line.\n"
      ],
      "metadata": {
        "id": "kApNvgOLn8lp"
      }
    },
    {
      "cell_type": "code",
      "source": [
        "with open(\"rosalind_ini5.txt\",\"r\") as data:\n",
        "\n",
        "  line=data.read()\n",
        "\n",
        "for word in line.split():\n",
        "    print (word)"
      ],
      "metadata": {
        "colab": {
          "base_uri": "https://localhost:8080/"
        },
        "id": "PBjyhwclpKoM",
        "outputId": "ca7580be-1bae-4002-b85f-d2869a727310"
      },
      "execution_count": 66,
      "outputs": [
        {
          "output_type": "stream",
          "name": "stdout",
          "text": [
            "`Twas\n",
            "brillig,\n",
            "and\n",
            "the\n",
            "slithy\n",
            "toves\n",
            "Some\n",
            "things\n",
            "in\n",
            "life\n",
            "are\n",
            "bad,\n",
            "they\n",
            "can\n",
            "really\n",
            "make\n",
            "you\n",
            "mad\n",
            "Did\n",
            "gyre\n",
            "and\n",
            "gimble\n",
            "in\n",
            "the\n",
            "wabe:\n",
            "Other\n",
            "things\n",
            "just\n",
            "make\n",
            "you\n",
            "swear\n",
            "and\n",
            "curse\n",
            "All\n",
            "mimsy\n",
            "were\n",
            "the\n",
            "borogoves,\n",
            "When\n",
            "you're\n",
            "chewing\n",
            "on\n",
            "life's\n",
            "gristle,\n",
            "don't\n",
            "grumble\n",
            "give\n",
            "a\n",
            "whistle\n",
            "And\n",
            "the\n",
            "mome\n",
            "raths\n",
            "outgrabe.\n",
            "This\n",
            "will\n",
            "help\n",
            "things\n",
            "turn\n",
            "out\n",
            "for\n",
            "the\n",
            "best\n",
            "\"Beware\n",
            "the\n",
            "Jabberwock,\n",
            "my\n",
            "son!\n",
            "Always\n",
            "look\n",
            "on\n",
            "the\n",
            "bright\n",
            "side\n",
            "of\n",
            "life\n",
            "The\n",
            "jaws\n",
            "that\n",
            "bite,\n",
            "the\n",
            "claws\n",
            "that\n",
            "catch!\n",
            "Always\n",
            "look\n",
            "on\n",
            "the\n",
            "right\n",
            "side\n",
            "of\n",
            "life\n",
            "Beware\n",
            "the\n",
            "Jubjub\n",
            "bird,\n",
            "and\n",
            "shun\n",
            "If\n",
            "life\n",
            "seems\n",
            "jolly\n",
            "rotten,\n",
            "there's\n",
            "something\n",
            "you've\n",
            "forgotten\n",
            "The\n",
            "frumious\n",
            "Bandersnatch!\"\n",
            "And\n",
            "that's\n",
            "to\n",
            "laugh\n",
            "and\n",
            "smile\n",
            "and\n",
            "dance\n",
            "and\n",
            "sing\n",
            "He\n",
            "took\n",
            "his\n",
            "vorpal\n",
            "sword\n",
            "in\n",
            "hand:\n",
            "When\n",
            "you're\n",
            "feeling\n",
            "in\n",
            "the\n",
            "dumps,\n",
            "don't\n",
            "be\n",
            "silly,\n",
            "chumps\n",
            "Long\n",
            "time\n",
            "the\n",
            "manxome\n",
            "foe\n",
            "he\n",
            "sought\n",
            "--\n",
            "Just\n",
            "purse\n",
            "your\n",
            "lips\n",
            "and\n",
            "whistle,\n",
            "that's\n",
            "the\n",
            "thing\n",
            "So\n",
            "rested\n",
            "he\n",
            "by\n",
            "the\n",
            "Tumtum\n",
            "tree,\n",
            "So,\n",
            "always\n",
            "look\n",
            "on\n",
            "the\n",
            "bright\n",
            "side\n",
            "of\n",
            "death\n",
            "And\n",
            "stood\n",
            "awhile\n",
            "in\n",
            "thought.\n",
            "Just\n",
            "before\n",
            "you\n",
            "draw\n",
            "your\n",
            "terminal\n",
            "breath\n",
            "And,\n",
            "as\n",
            "in\n",
            "uffish\n",
            "thought\n",
            "he\n",
            "stood,\n",
            "Life's\n",
            "a\n",
            "counterfeit\n",
            "and\n",
            "when\n",
            "you\n",
            "look\n",
            "at\n",
            "it\n",
            "The\n",
            "Jabberwock,\n",
            "with\n",
            "eyes\n",
            "of\n",
            "flame,\n",
            "Life's\n",
            "a\n",
            "laugh\n",
            "and\n",
            "death's\n",
            "the\n",
            "joke,\n",
            "it's\n",
            "true\n",
            "Came\n",
            "whiffling\n",
            "through\n",
            "the\n",
            "tulgey\n",
            "wood,\n",
            "You\n",
            "see,\n",
            "it's\n",
            "all\n",
            "a\n",
            "show,\n",
            "keep\n",
            "them\n",
            "laughing\n",
            "as\n",
            "you\n",
            "go\n",
            "And\n",
            "burbled\n",
            "as\n",
            "it\n",
            "came!\n",
            "Just\n",
            "remember\n",
            "the\n",
            "last\n",
            "laugh\n",
            "is\n",
            "on\n",
            "you\n",
            "One,\n",
            "two!\n",
            "One,\n",
            "two!\n",
            "And\n",
            "through\n",
            "and\n",
            "through\n",
            "Always\n",
            "look\n",
            "on\n",
            "the\n",
            "bright\n",
            "side\n",
            "of\n",
            "life\n",
            "The\n",
            "vorpal\n",
            "blade\n",
            "went\n",
            "snicker-snack!\n",
            "And\n",
            "always\n",
            "look\n",
            "on\n",
            "the\n",
            "right\n",
            "side\n",
            "of\n",
            "life\n",
            "He\n",
            "left\n",
            "it\n",
            "dead,\n",
            "and\n",
            "with\n",
            "its\n",
            "head\n",
            "Always\n",
            "look\n",
            "on\n",
            "the\n",
            "bright\n",
            "side\n",
            "of\n",
            "life\n",
            "He\n",
            "went\n",
            "galumphing\n",
            "back.\n",
            "And\n",
            "always\n",
            "look\n",
            "on\n",
            "the\n",
            "right\n",
            "side\n",
            "of\n",
            "life\n"
          ]
        }
      ]
    },
    {
      "cell_type": "markdown",
      "source": [
        "#<font color=blue>**P17.**</font> Python Dictionaries { }"
      ],
      "metadata": {
        "id": "kq9QbEttnA4h"
      }
    },
    {
      "cell_type": "markdown",
      "source": [
        "####**TASK 17.1** Create and print your first dictionary"
      ],
      "metadata": {
        "id": "lVudFQkZqJgh"
      }
    },
    {
      "cell_type": "code",
      "source": [
        "sequences = {\n",
        "    \"H.neandertalensis\":\"ACGTCGCTCTGCTA\",\n",
        "    \"H.sapiens\":\"ACGTCACTCTGCTA\"\n",
        "    }\n",
        "\n",
        "print (sequences)"
      ],
      "metadata": {
        "colab": {
          "base_uri": "https://localhost:8080/"
        },
        "id": "IzKFWDlgq6zo",
        "outputId": "f9a00391-cb67-4e08-d302-de0b972d55b6"
      },
      "execution_count": 67,
      "outputs": [
        {
          "output_type": "stream",
          "name": "stdout",
          "text": [
            "{'H.neandertalensis': 'ACGTCGCTCTGCTA', 'H.sapiens': 'ACGTCACTCTGCTA'}\n"
          ]
        }
      ]
    },
    {
      "cell_type": "markdown",
      "source": [
        "#<font color=blue>**P18.**</font> Manipulating and printing dictionaries"
      ],
      "metadata": {
        "id": "OvqoT6UwnK0g"
      }
    },
    {
      "cell_type": "markdown",
      "source": [
        "####**TASK 18.1** Modify line 8 to create a fasta file of the hominid sequences"
      ],
      "metadata": {
        "id": "5Be2tcQRrjso"
      }
    },
    {
      "cell_type": "code",
      "source": [
        "sequences[\"P.troglodytes\"]=\"ACGTCACTCTCCTA\"\n",
        "\n",
        "sequences.update({\"G.gorilla\":\"ACGTCCTCCTA\", \"H.erectus\":\"ACGTCACTCTGCTA\"})\n",
        "\n",
        "print (sequences[\"H.sapiens\"])\n",
        "\n",
        "for key,value in sequences.items():\n",
        "     print (key,value)"
      ],
      "metadata": {
        "colab": {
          "base_uri": "https://localhost:8080/"
        },
        "id": "b-2XDof4rtP8",
        "outputId": "d68be568-d803-4b0f-de46-087695da173d"
      },
      "execution_count": 68,
      "outputs": [
        {
          "output_type": "stream",
          "name": "stdout",
          "text": [
            "ACGTCACTCTGCTA\n",
            "H.neandertalensis ACGTCGCTCTGCTA\n",
            "H.sapiens ACGTCACTCTGCTA\n",
            "P.troglodytes ACGTCACTCTCCTA\n",
            "G.gorilla ACGTCCTCCTA\n",
            "H.erectus ACGTCACTCTGCTA\n"
          ]
        }
      ]
    },
    {
      "cell_type": "markdown",
      "source": [
        "####**TASK P18.2** <font color= orange>**Complete Rosalind Problem #5  Dictionaries**</font>"
      ],
      "metadata": {
        "id": "Y98OZYUNvmWD"
      }
    },
    {
      "cell_type": "code",
      "source": [
        "# Given string\n",
        "s = \"When I find myself in times of trouble Mother Mary comes to me Speaking words of wisdom let it be And in my hour of darkness she is standing right in front of me Speaking words of wisdom let it be Let it be let it be let it be let it be Whisper words of wisdom let it be And when the broken hearted people living in the world agree There will be an answer let it be For though they may be parted there is still a chance that they will see There will be an answer let it be Let it be let it be let it be let it be There will be an answer let it be Let it be let it be let it be let it be Whisper words of wisdom let it be Let it be let it be let it be let it be Whisper words of wisdom let it be And when the night is cloudy there is still a light that shines on me Shine until tomorrow let it be I wake up to the sound of music Mother Mary comes to me Speaking words of wisdom let it be Let it be let it be let it be yeah let it be There will be an answer let it be Let it be let it be let it be yeah let it be Whisper words of wisdom let it be\"\n",
        "# Split the string into words\n",
        "words = s.split()\n",
        "\n",
        "# Initialize an empty dictionary\n",
        "word_counts = {}\n",
        "\n",
        "# Count occurrences of each word\n",
        "for word in words:\n",
        "    if word in word_counts:\n",
        "        word_counts[word] += 1\n",
        "    else:\n",
        "        word_counts[word] = 1\n",
        "\n",
        "# Print the word counts\n",
        "for word, count in word_counts.items():\n",
        "    print(word, count)"
      ],
      "metadata": {
        "id": "lD3KoTY9wWa7",
        "colab": {
          "base_uri": "https://localhost:8080/"
        },
        "outputId": "ca439383-91a0-4fef-afa4-01a74898298a"
      },
      "execution_count": 69,
      "outputs": [
        {
          "output_type": "stream",
          "name": "stdout",
          "text": [
            "When 1\n",
            "I 2\n",
            "find 1\n",
            "myself 1\n",
            "in 4\n",
            "times 1\n",
            "of 11\n",
            "trouble 1\n",
            "Mother 2\n",
            "Mary 2\n",
            "comes 2\n",
            "to 3\n",
            "me 4\n",
            "Speaking 3\n",
            "words 7\n",
            "wisdom 7\n",
            "let 30\n",
            "it 36\n",
            "be 41\n",
            "And 3\n",
            "my 1\n",
            "hour 1\n",
            "darkness 1\n",
            "she 1\n",
            "is 4\n",
            "standing 1\n",
            "right 1\n",
            "front 1\n",
            "Let 6\n",
            "Whisper 4\n",
            "when 2\n",
            "the 4\n",
            "broken 1\n",
            "hearted 1\n",
            "people 1\n",
            "living 1\n",
            "world 1\n",
            "agree 1\n",
            "There 4\n",
            "will 5\n",
            "an 4\n",
            "answer 4\n",
            "For 1\n",
            "though 1\n",
            "they 2\n",
            "may 1\n",
            "parted 1\n",
            "there 2\n",
            "still 2\n",
            "a 2\n",
            "chance 1\n",
            "that 2\n",
            "see 1\n",
            "night 1\n",
            "cloudy 1\n",
            "light 1\n",
            "shines 1\n",
            "on 1\n",
            "Shine 1\n",
            "until 1\n",
            "tomorrow 1\n",
            "wake 1\n",
            "up 1\n",
            "sound 1\n",
            "music 1\n",
            "yeah 2\n"
          ]
        }
      ]
    },
    {
      "cell_type": "markdown",
      "source": [
        "####**<font color=crimson>TASK 18.3 Commit to GitHub**</font>"
      ],
      "metadata": {
        "id": "1dJdfy4bwVO4"
      }
    },
    {
      "cell_type": "markdown",
      "source": [
        "#<font color=blue>**P19.**</font> ```count()``` – counting things made easy"
      ],
      "metadata": {
        "id": "28ygQlYJnZoA"
      }
    },
    {
      "cell_type": "markdown",
      "source": [
        "####**TASK P19.1** <font color= orange>**Complete Rosalind Problem #6  Counting DNA Nucleotides**</font>"
      ],
      "metadata": {
        "id": "CZ9tBWDmw4D-"
      }
    },
    {
      "cell_type": "code",
      "source": [
        "# Given DNA string\n",
        "s = \"CGTGTCCCATGCGGGTCGCATGTTACCTGTCTCAACCCTTTCCTACGCACAAGAGATAATATGCGGGACTGGAGTTAAATCAGAGATCATGGCGGCCTCGCCTAGGATCCATGTTCGACATCAGATATCCACCCACGCCATCGTAAAACGAAAACGTCTGCAAGTTACATATTCCACGGAGATTGAGACGGCCTTAAGTCATTATAATTAATTTATTGGACAAGGCAGCATCCTGTGAGCGTACCAAAAGTTGTTTGCCAGTGTCACTAGGTCTTGATTTTGCTCGAGCCAAGGATCAGGCCCTGCGTATCGTACCAGCCCGCTGGAGATACAGAGGCACAATCGGGGTGCTGGCGTCCTCGCGCATCCAGGATTTCCCATACAGTCCCGCGTGGATTTGGGCTAATCGTTGCCACCATACTGTAGCAGATGCTGGTTATGGGTTGAAAGTTGACTGCGGCTCCGCGTCGAAAATAAATACCACTACCCAGGGATTGTACTCATTGGACCATGAGTAATTCCCCACATACCCTTCGCAACACTAAATGATTGTCGGTTTACAAGAGACGTGCGTTTGCGATTTCGCGCTTCGGAGGGGGCTTAGGGTGCACTGGACATATAAGCCCGCGCACAACCACGGACGATAGACGGCACTAAGTAATTAACTTTTACGCTGATATAGGTGTTTCAAGCAAGTATCTGCCTGGAGGAAGTTCAAGAATGTTTGTAAGACTTAACAGGGGTAGGCCTGAAGACACTGAAGGAGAGGTCCTTTTTCGTTGCCGGGCCTACTGCCCGCCCAGCGTGTTATTACCTATGCGGGATTCGCGTAGTCCGGCACGGCAATTG\"\n",
        "\n",
        "# Count each nucleotide\n",
        "a_count = s.count('A')\n",
        "c_count = s.count('C')\n",
        "g_count = s.count('G')\n",
        "t_count = s.count('T')\n",
        "\n",
        "print(a_count, c_count, g_count, t_count)"
      ],
      "metadata": {
        "id": "GlwS14zGxBIC",
        "colab": {
          "base_uri": "https://localhost:8080/"
        },
        "outputId": "4b14735e-4e7e-4719-fb90-56e0944e404c"
      },
      "execution_count": 70,
      "outputs": [
        {
          "output_type": "stream",
          "name": "stdout",
          "text": [
            "211 209 218 211\n"
          ]
        }
      ]
    },
    {
      "cell_type": "markdown",
      "source": [
        "####**TASK P19.2** Modify your code for the Rosalind #5 Dictionary problem so that it uses count( ) to count the words."
      ],
      "metadata": {
        "id": "rj-OWB6Jym5y"
      }
    },
    {
      "cell_type": "code",
      "source": [
        "s = \"We tried list and we tried dicts also we tried Zen\"\n",
        "words = s.split()\n",
        "unique_words = set(words)\n",
        "word_counts = {}\n",
        "\n",
        "for word in unique_words:\n",
        "    word_counts[word] = words.count(word)\n",
        "\n",
        "for word, count in word_counts.items():\n",
        "    print(word, count)"
      ],
      "metadata": {
        "id": "9H_S6jLnzfxR",
        "colab": {
          "base_uri": "https://localhost:8080/"
        },
        "outputId": "08f0e3bf-fcd2-4a8b-f00b-497bec3a5352"
      },
      "execution_count": 71,
      "outputs": [
        {
          "output_type": "stream",
          "name": "stdout",
          "text": [
            "Zen 1\n",
            "also 1\n",
            "list 1\n",
            "dicts 1\n",
            "we 2\n",
            "We 1\n",
            "tried 3\n",
            "and 1\n"
          ]
        }
      ]
    },
    {
      "cell_type": "markdown",
      "source": [
        "####**<font color=crimson>TASK 19.3 Commit to GitHub**</font>\n"
      ],
      "metadata": {
        "id": "RzMon_wAzg7D"
      }
    },
    {
      "cell_type": "markdown",
      "source": [
        "#<font color=blue>**P20.**</font> Installing biopython"
      ],
      "metadata": {
        "id": "-IB0c2gG0Z1O"
      }
    },
    {
      "cell_type": "code",
      "source": [
        "!pip install biopython"
      ],
      "metadata": {
        "colab": {
          "base_uri": "https://localhost:8080/"
        },
        "id": "pinPQdEn0mJM",
        "outputId": "5023e5c9-e264-40d7-e2be-2e8e7910cb4d"
      },
      "execution_count": 72,
      "outputs": [
        {
          "output_type": "stream",
          "name": "stdout",
          "text": [
            "Requirement already satisfied: biopython in /usr/local/lib/python3.12/dist-packages (1.85)\n",
            "Requirement already satisfied: numpy in /usr/local/lib/python3.12/dist-packages (from biopython) (2.0.2)\n"
          ]
        }
      ]
    },
    {
      "cell_type": "code",
      "metadata": {
        "colab": {
          "base_uri": "https://localhost:8080/"
        },
        "id": "5ccd6f0b",
        "outputId": "d1b43c9f-50c5-4ff3-b859-2b75baa5d477"
      },
      "source": [
        "try:\n",
        "  from Bio.Seq import Seq\n",
        "  print(\"Biopython is installed correctly.\")\n",
        "except ImportError:\n",
        "  print(\"Biopython is not installed or there was an import error.\")"
      ],
      "execution_count": 73,
      "outputs": [
        {
          "output_type": "stream",
          "name": "stdout",
          "text": [
            "Biopython is installed correctly.\n"
          ]
        }
      ]
    },
    {
      "cell_type": "markdown",
      "source": [
        "#<font color=blue>**P21.**</font> Seq( ) – a function to define sequence objects"
      ],
      "metadata": {
        "id": "IGX-ThdQ3RuA"
      }
    },
    {
      "cell_type": "code",
      "source": [
        "from Bio.Seq import Seq\n",
        "\n",
        "my_sequence = Seq(\"GATGGAACTTGACTACGTAAATT\")"
      ],
      "metadata": {
        "id": "ltZBr8mE4OhM"
      },
      "execution_count": 74,
      "outputs": []
    },
    {
      "cell_type": "markdown",
      "source": [
        "####**TASK BP21.2** <font color=orange> **Complete Rosalind #7 Transcribing DNA into RNA**</font>"
      ],
      "metadata": {
        "id": "UXCuEFxg6Jxx"
      }
    },
    {
      "cell_type": "code",
      "source": [
        "t = \"GTTCTTTATCTCTGAACCCGGTCTGCAAAATAAGCGCGCCATGTTTTTTGCCTGTAAAGTACACCGCGCCGATCCCGAGAGGGCCGCACAGTATGATGAGCCGGGTGTCGATACTTGACACGTCTTACATCCAACTATTTTGCGTCCCAAGTCGCCTGTCATTGGAATGACGGACACAGCTTCAGAAGAGAATGGCAGAATACAGGACATTAATTACGCGCTCAGACCTTAGCTATACCACACTGAAAGGGACATGGACATGCTGGACTGAACTATGCTACTGCCTCTGTGCTGGGTCAGACCTAATTCGAGTTAGTGAAAGCCTCGATGTTACCCTCAGATTATCCGGCCCTAATGTTGGATTTTGCGGCGATACAGACGATCAGCTGTTCATCCGACATCTCTCAAGACTTCTGTTTGCCGACGGGCCTGACACAGACCGTACGGGTAAGCTTTATAGCGCCACTGACCGACTAAAGACACCACGTATTACTTCTTGGGTTGCCCGAATGTTCCCCTTGGACCGTGATTTCGCCATTGAAACTCAAGGCATTACGGAATGGAACTAGCAGCTGTAGTGCTCGTCTACGAATCAGCCTAACACCTAACGGTGCTTTCGCCCGGCCTTCTAGATTTCTTTGTGAAGAGGATCATTCTGGTTTTGAGTCAGTTCTCGCGTCGCGAAGGGCCCGATCTGCTCAGTGGGACAGGAGTAAGGCTGGGGGCTAGTTCAAAGTAAGTATCGGCTTCACCTAGCCAATTCAGGAAATGTGGGGAAATTCCCTACGTCCGGAGTTTTTTCCTCGGTAAATAACGTGATGGGCGTCCGCGAGAATTGATCGCTAGTCGCCCGGAACCATGAGATGTACCCAAGAAATGATGTGCGCTTGCAGTAAGGCACTATGCTTGCAAGAACCAAAAGCGCTAACAGCCCGCCTGGTTGGCAGCGAGATAAAACTGTTTCAATGATTG\"\n",
        "\n",
        "# Transcribe DNA to RNA by replacing T with U\n",
        "u = t.replace('T', 'U')\n",
        "\n",
        "print(u)"
      ],
      "metadata": {
        "id": "UXt6gWLM6qde",
        "colab": {
          "base_uri": "https://localhost:8080/"
        },
        "outputId": "7b85cf58-8ec3-4b28-9471-baed4583152b"
      },
      "execution_count": 75,
      "outputs": [
        {
          "output_type": "stream",
          "name": "stdout",
          "text": [
            "GUUCUUUAUCUCUGAACCCGGUCUGCAAAAUAAGCGCGCCAUGUUUUUUGCCUGUAAAGUACACCGCGCCGAUCCCGAGAGGGCCGCACAGUAUGAUGAGCCGGGUGUCGAUACUUGACACGUCUUACAUCCAACUAUUUUGCGUCCCAAGUCGCCUGUCAUUGGAAUGACGGACACAGCUUCAGAAGAGAAUGGCAGAAUACAGGACAUUAAUUACGCGCUCAGACCUUAGCUAUACCACACUGAAAGGGACAUGGACAUGCUGGACUGAACUAUGCUACUGCCUCUGUGCUGGGUCAGACCUAAUUCGAGUUAGUGAAAGCCUCGAUGUUACCCUCAGAUUAUCCGGCCCUAAUGUUGGAUUUUGCGGCGAUACAGACGAUCAGCUGUUCAUCCGACAUCUCUCAAGACUUCUGUUUGCCGACGGGCCUGACACAGACCGUACGGGUAAGCUUUAUAGCGCCACUGACCGACUAAAGACACCACGUAUUACUUCUUGGGUUGCCCGAAUGUUCCCCUUGGACCGUGAUUUCGCCAUUGAAACUCAAGGCAUUACGGAAUGGAACUAGCAGCUGUAGUGCUCGUCUACGAAUCAGCCUAACACCUAACGGUGCUUUCGCCCGGCCUUCUAGAUUUCUUUGUGAAGAGGAUCAUUCUGGUUUUGAGUCAGUUCUCGCGUCGCGAAGGGCCCGAUCUGCUCAGUGGGACAGGAGUAAGGCUGGGGGCUAGUUCAAAGUAAGUAUCGGCUUCACCUAGCCAAUUCAGGAAAUGUGGGGAAAUUCCCUACGUCCGGAGUUUUUUCCUCGGUAAAUAACGUGAUGGGCGUCCGCGAGAAUUGAUCGCUAGUCGCCCGGAACCAUGAGAUGUACCCAAGAAAUGAUGUGCGCUUGCAGUAAGGCACUAUGCUUGCAAGAACCAAAAGCGCUAACAGCCCGCCUGGUUGGCAGCGAGAUAAAACUGUUUCAAUGAUUG\n"
          ]
        }
      ]
    },
    {
      "cell_type": "markdown",
      "source": [
        "####**TASK BP21.2** <font color=orange> **Complete Rosalind #8  Translating RNA into Protein**</font>"
      ],
      "metadata": {
        "id": "9P4_MaXp6O3n"
      }
    },
    {
      "cell_type": "code",
      "source": [
        "# RNA codon table\n",
        "codon_table = {\n",
        "    'UUU':'F', 'UUC':'F', 'UUA':'L', 'UUG':'L',\n",
        "    'UCU':'S', 'UCC':'S', 'UCA':'S', 'UCG':'S',\n",
        "    'UAU':'Y', 'UAC':'Y', 'UAA':'Stop', 'UAG':'Stop',\n",
        "    'UGU':'C', 'UGC':'C', 'UGA':'Stop', 'UGG':'W',\n",
        "    'CUU':'L', 'CUC':'L', 'CUA':'L', 'CUG':'L',\n",
        "    'CCU':'P', 'CCC':'P', 'CCA':'P', 'CCG':'P',\n",
        "    'CAU':'H', 'CAC':'H', 'CAA':'Q', 'CAG':'Q',\n",
        "    'CGU':'R', 'CGC':'R', 'CGA':'R', 'CGG':'R',\n",
        "    'AUU':'I', 'AUC':'I', 'AUA':'I', 'AUG':'M',\n",
        "    'ACU':'T', 'ACC':'T', 'ACA':'T', 'ACG':'T',\n",
        "    'AAU':'N', 'AAC':'N', 'AAA':'K', 'AAG':'K',\n",
        "    'AGU':'S', 'AGC':'S', 'AGA':'R', 'AGG':'R',\n",
        "    'GUU':'V', 'GUC':'V', 'GUA':'V', 'GUG':'V',\n",
        "    'GCU':'A', 'GCC':'A', 'GCA':'A', 'GCG':'A',\n",
        "    'GAU':'D', 'GAC':'D', 'GAA':'E', 'GAG':'E',\n",
        "    'GGU':'G', 'GGC':'G', 'GGA':'G', 'GGG':'G'\n",
        "}\n",
        "\n",
        "# Sample RNA string\n",
        "rna = \"AUGCACUACGUUAGUAGUAUACAUAAUUCACCGAUCUGUAUCAGCCCCCAUACCGUGCGAGCACCUUUUAUGGGUUGCGCGGAAGUUUCUACGGGUAGCCACUCAUGGGAGUUCCUGAAAGAUGUUAGCAAUUCGACCCAAUUAUUUUUUAAGCGACCUUUAAAGAUAACAGAACGACAACAGACUCAGUCUAGUUACAAACGCUAUCAGUCCGUCAGAGCGGUCUUCUACCAGGUCGGUUACCUGGAGAAAAGCGUGGCCCUGCUCGGCGCGGUACGUACCAUUUUGGAAGGAUCCAUCGGCCUCAGAGAGGACCGUGGCCACCGAGUCGUAACCUCAUCCAGAACGCCAUCAGAGUCGUUUGCCCAGGAUGGACAGUAUAUACAAAGUUGUACCGAUCACCUUUUACCCUUGACGAACGCAACAACUUGUUAUCAGGAUAUCCCCAGGAGUAGAACGCUAUUUGAGUGUACGCGACAUCAUUCAGGAUCGAGACGUGCGUACUUAGGUUUGCGUGCUUGCCAAAGGCGGUACAAUAUGAAGUCUCGGGCAAGCUUAUUCAAAUGUACUCCCAUACAGGUAUACUGGAUAUCCCAGCUGCUUCUGGAUAGCCCAACCCAGCCUGCGACACUCGUGACAGCUGAGGGAAUGCAGCAAUCGUCCUUAAGUGUUGCCCCAGACUCAUAUCUGUCAAAUUCCCCCUUAGAGGCACCACUGGACCGGGCGAAGGCGUGGGGCUACAAUUUCCAAGAAGAAGAUAGACUCGCGGCUUACGUACCUACUAAUACUUACCGGAGGCUGGAACCGCCUUUCGCUAAUCAGAUGACUGAGGCGGAGUUGACCUGUGCCUCAGCUGCUAGUAGCAGAUGGCACGUGGAUGCGGCUAGCGAGGGUGAUGUAGCAGAUUUGUUCAAGGGUUAUAUGGAAUUCCUUGGGACAAUCUGGACUUAUCGGAAGCGUACGGAUGAACCGGGUAAGCGAGAUUCGAAUAAGAGUGUGGGGGCGUGGGUUCGCGCUGCGGUUGAGCGCUCAUUAGGGGUCUCUUCAUCGACUCUCGGAUUUGUCUUAGGAUCAGGUUCGGGUAUCCAAGGCCGCACGCUGAAGACUGGGAACUUGAGACGCUCCGUGAAUGCACGCACGACCUCUAGCACUACCGAGCGCUACUUCGAGGCUAGCCUCAACGGGGCCCAUCGCGGAUGCAUCACUCCAGCGGACUGUGCACGUGUUUGCAAAAGAUUCCAGAGACUGCUGGAAAAUUCAGUCGGAAGUGAAGUGCGGCGGGUACGGCAAAUUCAGAUUCAAGAGCUCCAUUACUCAAAGUCAAAUAGCUAUAGUGAUCAUAAAAACCACGUUUUCCUGCUCGCAUCGGAGGCCGUUUGCAGUAGAGCGUUGAUGCCGAUCUCGGUGCAACUGCGUAAGGAUACCAAACACCGUGACGUACGACUUGCCGCGUGGUUUAGAGACACAGAUAUGCAAACAAGACGUCUCAUUAAGAGGUAUAAGAUCAUUCUGUUCUCCUACUCUCAAAUUCGUAGAACAGGUUGGAGCAACCGUCGAAGCGAAUUCAAAAAGCGUCCAGUAUUGGAGGGGCUAUUGUCUUCUCCUAGUCAGCUAACGUAUGUCGGAACGUCUGUGCUGGUUGAGAGAAAGUCGAAGUCUGACGGACUGCCGAGAGGACCCAGAGCAGGUGCUCCCAACUGCAGCCAGUACUCAUGUGAACUGCAGUUACAAUCACUACAUACCGAAAUUAGAACCAUUAGUCCAUCAGGUCAACGGUGUCCCAUUCAGACCAGACAGUUGCAAACGCUAAGCAUUCAUCACAAUCUACACUGUAUUUUGCACCAAAAGGGGGCUGGAGCCCGGAAGUUCGCUGAGGGCCUCACUUGCGGCACAUAUAGGCGUCAGUGCGCCUAUGGGAGGACCCCGGCAGUAAUUCUAACCAUAUUUUUAUCAGUAGUAGCUGGGAAGUGCCGCCAGGGCUUCUUGAAACACGAUUCAAGACCGAACAAAGUACGCCUUUGGUACAAUUUCUCCUGGUGCUGCUGUAGGUGUACAAAUACUAAGCCUUGUUGUCCUGCUGUUCUCAGAGUCAAUUACGUUAAGUGCCACGCGGCCGGAAGGACGUAUAGAGAGGUUAAACUACCCAAUAGCAACCCGGUAACGCCAUGGUUCAGCGAGACAACCCAACUGAAUAUGAUGAGUGAUACGAUCAGAAGUGUAGCACUUGGUAUGGAGCCGCCCAAGGGUCCAGCCAAGGCCAGGGGUAGACUGAGGUUUACUCGAGGCCCAAAUUGGUACUUCGAAGCGUUGUUGCUUGUUUAUGCAUGUAAAAUUGUAGGAGAUUCGGCGACAGACCAGGCAGGUGCGACUUCAAGGACUUGGAUGCCACGUUUUAUCGACCCUGUGGGAUUCUACGAUCACGAGACCUAUCACCUACCGAUGAGGGGAGCUCGUAACUGUCUUGCGGUAGUGUUGCACGCCGUUGCUAAAGUGGCAGCUGAGCUGCGAGACGAGCAGUUACAAUUCUGCAGUACUAAAUCUGUGGGGGGUCGAUGGGCGUGCGUGAUACUGUCUCUCCGUUCCAAAAUCGUUAUUGCCAACUGCUCGCGGUUUGGCAAGCAUAAAACUGCCAGAGAGCGUAGUGAUGAGUUGCUUAGCAUACGCCUAAAUCGGGCCUCGCUACACCUUCGUGAAGUGCGAGAAUGGGGAUACACUUGGAAAGCACGGGAGCGCGGGACGGUGUGUGGUAUAUGUGGGUCGCACUGCUAUGAUGUAGGGCUUUCUAAGACUCCACGUCUGGAUGUCUGGGCUAAGGCGUUAGCACAAGUGUGUUCAGUCCUCGGUCUCUUCGCUGGUAUACCGACUUUAGAACUGGGUAGCCGGUUGGGAAAAGUACUGAUCAAGCAAUCUCUUAUGCCAGGCUCAGUAUCGAGACCUACUGCAGCCCUUGGAAAUGCUCAUCCGGCAACGUUCUGCUUUGAGGCAUGGAGCCGAACUCCUCGGAGGUUGCCGCGCAUUCAGGAUCGGCCCGCGCGAUGUAAAGAUCACCUUAUUCAGACGAUCGUUCCUAUGACCCGCUCUACGAGAAGCUUACCUAGUGUGUAUGGUGUUUGGUCCUAUCCUUGGAUUCUCCUAAAAUCGCGGUGCCCAACGCCGUGCCACCCACCACGCUUCCCGGAGAUCAGGUUACGGUUCCGCCACGUUGUUUCCCGCUCCACUGACCCAAUACUCAUCCUGGACAUCGGAAGUCUUGGAGGCCAGCAUCUUUUGGGUAGGCGCCAGCCGCCUUCCAACACGCCUUCCAUCCACAGAGGGUUGCACACAAGAGGAGGAUCGAAUGAAGCUGCAAUCUCACAAAUUGUUGCUAAUAGCUUGCUAUCUGGGAUUACAAACGUCGACGUUUUAAGCAAGCACAUACGGGAAGGGAGUCCUCAGGUUAUUUCGAAGGACACCUUUGUAAUAGAGCGCUCUGGCUGUAGCGCCCCUGCAACCCAUUCUCAAGUUCUGGCUGGCCUAAUGCUACUCCUUUCGAAUCCAUACAGUGGCGUUACCACUCUUAGAGCGGCUCAUCAGAAAUUAUACUCCUCGGAAUCCUGCAGUCUGCCUACUGAGACCCGCCUAUAUCUCAUCCAACACCAGUUCACAGAGUGGGUCUCGUGUUUAAGUUCUCGGACCUCCUUGCAUAGAUUCCGCAAAGGAGCCACGCCGCAUGGUCGUAGCGUCUAUGCAGGUUUGAUCCAGGGUAUUCAUUAUAUUUCCUGCCACCGUAUACACCGGGUAAAGUCACUGCGCUUCUACUGUCAUGGGAUUUUUAGGAUGCAGCGACGAAGCGUUUUGGGGAGCCAGGGUGCAGCCUACCCUAUCUGCGUCAGUCGGAGGAUCCUCUCCUUCAACAAGCCCCUAUGUGUGCAUUACUUGUCAUGUUGCCAUCCACCGCACCUUGAGAUAGCUAGCACCAGGGACUUUAAACAGCGAAAAAAUACUCACAAUGGGGGGAAAUCCCAAAUUGGCGACGCGCCAAUUCACAAAAAGCGCCAUGCAUUGAAUGAGCAUGUCACGCAGCCAGCAGGACUCAGCUCAGUACCCCGAAUGCUCGUUUUUUGCUAUGACACUUCUGGUGGCCUAUGUGUUAACUCAGAGUGUGGACAGAUUGAGGUCCAUGGGCGCCCUGGUCUAAGAGGGCGCGCGGGGGGCUUCCAGCGGACCCGGAAACGAUUAGGUAGCCUUCAGCUCUGCCUACUAACAAAUUGCGCAGUACUCCAUCUUAAACAAAGCAACAGACUUCCUUUUAUAGUCAGCGCUCUACCACUCAACAAUGGGCACCUAAAGGGUGUCCUUAACGUACUCGGAGUCCCAUAUCCCCAGGAGUACAUACCCCUUAUCAUUGAUCGCCACCAUAUUGUCGUGCUUAGAAUUGGGAGAGAUCCCUUGAGACUCGACGGGCUAAGUUCAUGUACUAUGAACUGGUUGCCAAUGGAGAAGAAUUUUUCGGUUACAAACAGAGUUGCCUGGGUCUGCCUACAAUGGUCGGGGUACGCUCUGCUGAUUGGUCUUUUUGACCUUACCCCCAUCGGCGCGCCCUACUACAUCGUCAAGCACUGGCGGCGAGUUCUAGUGGACCCGCGGGAAAAGAUUAAUAGUGCACUUAUACCCCGGGCUAUUUGUGCUUUUUGUCGCCGAUCCUUAGACGGGAUCCUGAUAGGAGACCUCCUCGUGAAGCGACUGGACGUCCGACGACAAGAGCGUUAUAAGGGCCUGCUAUUUACAAACGGAAAUAUCUCCGGACGACAUACGCACCAUAAUGCAUACAUGGCGAAUUUGAGCCUUACAAGUCGUCCUAGAACGAUCCGGAGAGUGACCUAUUUGUCAAUCAGGUUCUUAGCGCAAUGUAGGGUCGUCAUUAUACCAAGCACUGUACGCCGCUCCUUAAUGACAGCAACGGCGCAGUCAGUGGCCGUCGGCUUUAUGUUGGGUCCUCUACACCGCUGGGAAUUACUAUCAGCGUUCCCGGUCUUGAUUCUGGCCGAGGGUACCGGGUCCGAACCGAAGGUUCUUGCUUGUGCUUCGGAAAGCCAAUGUGUCUCUAUACGCCAACGCAUACAGUUAGUUUCUGCGUAUGGUUGGUGUGUUUUCGUAUCCCCGAAUAUGUUUGAGAAUAAGCUUAGCGGUCGAUCUCGACGAACCAAUAAUACACAGCACACUACGUCCUCGAAGGGUCCCUCGACAGCAUUCCGUAAAUCUUGGAACGUGGACGGAGAGAGAGAGUACGUUCGCAUUAUAUGGGGGCCAUUCGCGUACCUAACGCCUAGUGAGAGCCCAGGACCAUGCUUGUGUUAUGAUUGGCGUACUAGCCAGUCUUAUGGAGUUAGCUGUUAUUUUCUGUUUCCGCAGUCACCUACAACCGACGGAUACAUCGGGGUAAGCAGACCCCCGCCUGAUUAUCUACCAAUCCGACUACAGCAUUACUCUGGUCGCCUGGAGAACUUGGGGCGGGGGAUGUAUGAGUCCUUCUUUUUCAUCGUAGUUACGGUCUAUAAUAGAAGUGCUGUAAAUCCCGCGGCAUUCUCGCAGAUUAUUGAGCCAUCAGCAUCGGUGAGUGGAGCUUCCGAGGCGCAGCGAUCUGAUUUUUAUUGCGGCUCGGUUAUCUCAUUGAUCAGCCCCGCAGUACUCCCAACCUGGAUCUCCGCGUCGAAAGGAUACCCACAUCGCCGCCCUAUUGUGAUCCGCUUCUAUCGUCUGGUGAGUGUGCUCUCGCCAAAAUUUUUCUGGAUAGAAAUAGGCCUCCUUAAUUGCAUACUGGAAAACAGGUGGGCACUCGGCGUCACCCUUAUAGUAUCGCCGCAAUCUGACCGUGUCCACCUAAGGGACGCGCCUCGAUGCAGGAUGGUGUGUGCAUACUACAAUCUUGCAGCACAUCAGCUCCAGUACGGUGGCUUUUCGGUACAUACUUCGUCUAACCUCAUGAUAGGGCACCCCGCAUUGGCUUGGUUUCACGGUCGCAUGAGCGUCAUGUAUCUUGGUGCUUUCCUUGUUCCACGAUCCAAAGAACGCGUAGUGUCUGAUGAAAACACUUGCCGGAAACGCGAAACUAUCCAGCGAUAUUCCUUAGAAUGUAUCCCAAUUAACCUUCGGCAUCUACUGCCGGCUUUGGCUGUUUCGCGCGUUACUAGUGCUAGAGCCCACUUGUAUAGAAUGAUGCUAUAUGUGUGUGUGAAUAGAUCUGUUAAGCAUCCGGGAAGUUAUAAGACGGGCCGAUCGCCUCGGCGAGCCCUAACCCGUUGCCCGGAUGACGUCCACUACAGCAUCUUCUCUGUUCCGAGCUCGUACCUAAUAAGGGAGAUACGCGGCUGUUCCACACCCUCCCAAUGCCUACGCCGUGAGCAGCAUCCUCCCGCCUUGUCCAAUUCCAGAAAUGUCAUCGGGGAUGGCGUUCGCACAUUUUAUAUUUCUGACUUCCGGGGCGAGGAGUUAAUUGAUGACUUACCGUCACUUUUUCCCUGUCAUUGUACAAAUCGUGCGCCGUAUUGGCCGCUUAAACUACGACCAACCUACCACUCCAAGAUAGGCAAUUUGGCCGGAUACAGGAAACUCCCAUAUCAGCCGCCGAUGGAUUCGUCCAGUCGCCCUAUAAGCACGUGUCUGAGUAACCUACAGCGAGUCGAUCAUGCCUGGAUCGCCUUGCAGUGUGCCGUAAGGGUUGUGCCGAAGGUCCAGCGGGACCAUUCGGCUCCCCCCCUCACAAGUCCCAUCGAACACUCUAUGAAAGGUUCUGUGUCCCAAAGACUGAGCCCUGGGUGCUGCAUUAUCGCUAUGCUCGAAGGUUCAUGGAUGAGUCUUACAAACUUACGGUCCUGCGCCAGGUUGAUAGAGUCCAGAAGAAGAUCUCCGGGUUGGGACUUCGUUGCCAAGCAUUUAUACCUAAUUACUUACCAAUUGCUAGUGGGGAAACCAAGCCGCCAGUUUUGGCCUUCAGUCACAGUAUCCAUUGCAGACGAGAGGUCACGCUUCGGGUAUUGUGCCCUAUUAGAUCGCGCACUGUAUGCCCGAUUAACGCAUCAGGCCGGACAGAUCCCUAUAUCAAUAUAUCACAUUGCAUAUGCCUCCUUGCAUAUCCGUAGGCGAGAAUUUGGCCCCAUCAUGACAAUGAUCGCGUCGUGUGAUCCGCCGAUUUUUGCCACCGUUCAGCCAACCGCCCGAAUAAUGGCAGUAACACCUCUACUCGCGACUGUGUGGUGCUUUAUAGCUUUCUCUGAAGCAGGAGAUAAGAGUCGGAAUGUUUACCCGCGAGUACAACUCAAAAAGUGGAUCGUAGUGCGGGAAUCUGAGGGCGAUUUCGAGUCCUAUCCGGAUGUCGUUUCACCUCCCCAUCUAACUGACUUUCGGCACGGACGGGUAUUGACCCUGGUCUCAAGUUCGUUCGCACAACCUGUAAUUUACACUAUACGCGGAUCGAAAGUCUGUCACGGGUGGAGUUUACGCCAUCGAUCACGACUGUCAGCCCCACGCGAAGCCGGACGUAUGAUCAAGGUAUUCCCUACGCGAAUAAACGAAGCAGUCGCACUUGGCAAUACUCCCACUCAAUCUGUCCAAAAACAGACGCCGACGGGAUCAACAGAUGCGCCCCAGGGUUCGAUCCGGACAGCAACUAAACUAAAUAACUCUACUCCCUACGGACCAUUUAGCUAUUGCGGGAUGUUGGCGAAGCCUGAAAGACAUCUCGUCAGCAGCAAAGACACUUCUCCCGUGGAUCAAGGCCAGUUGAAGAUAUACUUGCUCUCCGAGACGUGCCAUACCCGACCUUACGGCCCGUUGCCAAUGUUCUGUCAAUCAAACAUGCGAUCGGGGAAUCGUCGCGUGAUGUUAGAUUACACUGGGCGGGCUGAAGUUCUUCUGUGUCGUUUUAACACAGUGAUCUGCAAUACUGGCCCGACACACGCUAGGGGGACCGAAUGGUCAAUGGGAGCACCUGACAAGCCGUGGACUGGUAGAAUCCUUUACUCUCUGGACAUUGAGUCAGUGAUUGGCAGUACAGUCCCAAGUAAUAACCACUUAGGUAUAGCAUUCUUGCUAGAUAAAGGUCAAGCUGGUCGCCGAGGCGCAACCAACCACCCAGGCGUGUUAGCCCAGGAUACGAGCCCUCGCGAGCUACAUGGUUGCCGGAAACUGACUUGCUUAGCUAACGUUUUCAUCCGAGGUGUAACACAGCAUGUUAACCCUGCCGGCUCCAAGGUGGACGCUGGUCAACGGCAUUAUAGGGGACACUGGCGUACUCCAGACAAUCAUAGCACUAUGCGUGUUUCCAGGCUAACGCCUCUGCUAGUUGCCUCCGGGUGCUUAAGACGUCAGCAAUGGGCCUCUCAUGUAACAGACUCGACGCUUCCGUGGGGCUGUGUCGCCGUGCCCGCUGUGAUGUGCGGGUGUUGUCUGCCCACUCAUUACCACAACGGAGUCCGCCACCGUUGCAUCGCUGUUGCUCUCGUUAAGGCACGUGAGCAAAUGGUUGUGGAGUGUACGAUCCCCAACGCUGAUCACGUUGUGACGCUAAAUGGUCGAGAAUACGUUCAUCGUAAGGACCUGAGGACUUUGUUCCUUAAUAUCGAAGAAAGGACUAUGCAAUUCAGUCUCCCCGUGCCAUUUAGGCGUGAAAGGUUAAGAAGACUCUUCAGUAUUUGCUUUUCAUACUGGGUUGUGUGGCACGCUCGUACAGUGAUAGCACGGCGCAUUUGCGGGCAGCGGUUUACCGCUUGGGUCGCAACCAGAAGGUUUGGGACCACUUUACAUCCGAUUACCGCGCCUGCAAUAGUCAGAUUAUCAAUACUGCAGCUUUCAGGCAUUCAAUUAUGUCUUCUAAUCUAUUGUUCUACGAGGGCCAGGCAGACCGGAAACUCAAGCAAGGCUACGAAACCAGAUAAGGAUCGUACAGCCCCUUGCAGAUCGCAUUGUCGCUAUAUCAAGGAUUUAAUAAUACAGCUUCUCUCGUAUAAGGCAACCACGCUCAACAGAACCAUAGGACAAGCAAUAUUGAGAUCGACACGCGCCCCCAUUUCCCUUGGCGACUGCGCUAAAUUAACAGGAUCGAUGGUCAAACUUACCGGACCCGCCAUAGUGCGAGGACAACCGGUUCGUCCCCUCUACGGCAGAAAAAGCGACCACACACCUAUCGAGAGGCGACAGCACAAACCUAGCUUGCUGUCCUGCAAGGUCCCACACCGGUGCCUAAAAGGAAGCCUUGACUUGGUUCGCGACGGACAGCUGAGAGUAAUUUUCGGGAACACUGGCAUCCUGCUAGUCACUGCAAAAAACACGGGAGGAAAUGAUGAGAAUCUGUGGUUAUGCAUCCAGAACGCUAAGGGGAUGAAGGCAUUGAGCUUACGGGCAGUGUUGCAACAUGCUCGUUCGGGGCCCGGGCGUAAUGCCAUGGCUCAAGCAUCUUUAGAUAGAUUGCGUCGGCCGUGGGACAGUUCUAACAUGUGGUCUGGACCAGGCACGGGUUUGUCGUGUACAUGCCGAACCGGCUAUUUAUCGGGCUCAUGGAGACGGCCCCGUGUUUACUUUAAGGUAGUGCACGCGCCCACCAUUGGUUUCUCGUAUAUUUGUGGCCAUGUGGAACCACGUGGUCGGCUGAAUUAUAACCUAUGGUACAACAUCGGCUGUGCCAAUAUUGGUGUAUCUGCUAGACGGGACAGCGUCCCAUCUAUUGGUUUGGAAGCAACUCGACCCUUUCCAUAUGAGUGCCUUUGGUGCUUAAUGAGAGCACCACGCGAACUCCCGGCGGCUCCUCGUUCUAUGCUCCGGGCACCAGCAGCUUGGCCAGCCUUCGCGACGCAGAGAUUGCGCAUCGUUCUCUCAAUGCGGUUUCAGUCGUGUGUUCCCUACAUAAUUUUAUUGUGGCUGUAG\"\n",
        "\n",
        "# Translate RNA to protein\n",
        "protein = \"\"\n",
        "for i in range(0, len(rna), 3):\n",
        "    codon = rna[i:i+3]\n",
        "    if codon_table[codon] == \"Stop\":\n",
        "        break\n",
        "    protein += codon_table[codon]\n",
        "\n",
        "print(protein)\n"
      ],
      "metadata": {
        "id": "5Rzzfzij6q2P",
        "colab": {
          "base_uri": "https://localhost:8080/"
        },
        "outputId": "834fb8ef-8389-40c4-9f27-7c96898aedb3"
      },
      "execution_count": 76,
      "outputs": [
        {
          "output_type": "stream",
          "name": "stdout",
          "text": [
            "MHYVSSIHNSPICISPHTVRAPFMGCAEVSTGSHSWEFLKDVSNSTQLFFKRPLKITERQQTQSSYKRYQSVRAVFYQVGYLEKSVALLGAVRTILEGSIGLREDRGHRVVTSSRTPSESFAQDGQYIQSCTDHLLPLTNATTCYQDIPRSRTLFECTRHHSGSRRAYLGLRACQRRYNMKSRASLFKCTPIQVYWISQLLLDSPTQPATLVTAEGMQQSSLSVAPDSYLSNSPLEAPLDRAKAWGYNFQEEDRLAAYVPTNTYRRLEPPFANQMTEAELTCASAASSRWHVDAASEGDVADLFKGYMEFLGTIWTYRKRTDEPGKRDSNKSVGAWVRAAVERSLGVSSSTLGFVLGSGSGIQGRTLKTGNLRRSVNARTTSSTTERYFEASLNGAHRGCITPADCARVCKRFQRLLENSVGSEVRRVRQIQIQELHYSKSNSYSDHKNHVFLLASEAVCSRALMPISVQLRKDTKHRDVRLAAWFRDTDMQTRRLIKRYKIILFSYSQIRRTGWSNRRSEFKKRPVLEGLLSSPSQLTYVGTSVLVERKSKSDGLPRGPRAGAPNCSQYSCELQLQSLHTEIRTISPSGQRCPIQTRQLQTLSIHHNLHCILHQKGAGARKFAEGLTCGTYRRQCAYGRTPAVILTIFLSVVAGKCRQGFLKHDSRPNKVRLWYNFSWCCCRCTNTKPCCPAVLRVNYVKCHAAGRTYREVKLPNSNPVTPWFSETTQLNMMSDTIRSVALGMEPPKGPAKARGRLRFTRGPNWYFEALLLVYACKIVGDSATDQAGATSRTWMPRFIDPVGFYDHETYHLPMRGARNCLAVVLHAVAKVAAELRDEQLQFCSTKSVGGRWACVILSLRSKIVIANCSRFGKHKTARERSDELLSIRLNRASLHLREVREWGYTWKARERGTVCGICGSHCYDVGLSKTPRLDVWAKALAQVCSVLGLFAGIPTLELGSRLGKVLIKQSLMPGSVSRPTAALGNAHPATFCFEAWSRTPRRLPRIQDRPARCKDHLIQTIVPMTRSTRSLPSVYGVWSYPWILLKSRCPTPCHPPRFPEIRLRFRHVVSRSTDPILILDIGSLGGQHLLGRRQPPSNTPSIHRGLHTRGGSNEAAISQIVANSLLSGITNVDVLSKHIREGSPQVISKDTFVIERSGCSAPATHSQVLAGLMLLLSNPYSGVTTLRAAHQKLYSSESCSLPTETRLYLIQHQFTEWVSCLSSRTSLHRFRKGATPHGRSVYAGLIQGIHYISCHRIHRVKSLRFYCHGIFRMQRRSVLGSQGAAYPICVSRRILSFNKPLCVHYLSCCHPPHLEIASTRDFKQRKNTHNGGKSQIGDAPIHKKRHALNEHVTQPAGLSSVPRMLVFCYDTSGGLCVNSECGQIEVHGRPGLRGRAGGFQRTRKRLGSLQLCLLTNCAVLHLKQSNRLPFIVSALPLNNGHLKGVLNVLGVPYPQEYIPLIIDRHHIVVLRIGRDPLRLDGLSSCTMNWLPMEKNFSVTNRVAWVCLQWSGYALLIGLFDLTPIGAPYYIVKHWRRVLVDPREKINSALIPRAICAFCRRSLDGILIGDLLVKRLDVRRQERYKGLLFTNGNISGRHTHHNAYMANLSLTSRPRTIRRVTYLSIRFLAQCRVVIIPSTVRRSLMTATAQSVAVGFMLGPLHRWELLSAFPVLILAEGTGSEPKVLACASESQCVSIRQRIQLVSAYGWCVFVSPNMFENKLSGRSRRTNNTQHTTSSKGPSTAFRKSWNVDGEREYVRIIWGPFAYLTPSESPGPCLCYDWRTSQSYGVSCYFLFPQSPTTDGYIGVSRPPPDYLPIRLQHYSGRLENLGRGMYESFFFIVVTVYNRSAVNPAAFSQIIEPSASVSGASEAQRSDFYCGSVISLISPAVLPTWISASKGYPHRRPIVIRFYRLVSVLSPKFFWIEIGLLNCILENRWALGVTLIVSPQSDRVHLRDAPRCRMVCAYYNLAAHQLQYGGFSVHTSSNLMIGHPALAWFHGRMSVMYLGAFLVPRSKERVVSDENTCRKRETIQRYSLECIPINLRHLLPALAVSRVTSARAHLYRMMLYVCVNRSVKHPGSYKTGRSPRRALTRCPDDVHYSIFSVPSSYLIREIRGCSTPSQCLRREQHPPALSNSRNVIGDGVRTFYISDFRGEELIDDLPSLFPCHCTNRAPYWPLKLRPTYHSKIGNLAGYRKLPYQPPMDSSSRPISTCLSNLQRVDHAWIALQCAVRVVPKVQRDHSAPPLTSPIEHSMKGSVSQRLSPGCCIIAMLEGSWMSLTNLRSCARLIESRRRSPGWDFVAKHLYLITYQLLVGKPSRQFWPSVTVSIADERSRFGYCALLDRALYARLTHQAGQIPISIYHIAYASLHIRRREFGPIMTMIASCDPPIFATVQPTARIMAVTPLLATVWCFIAFSEAGDKSRNVYPRVQLKKWIVVRESEGDFESYPDVVSPPHLTDFRHGRVLTLVSSSFAQPVIYTIRGSKVCHGWSLRHRSRLSAPREAGRMIKVFPTRINEAVALGNTPTQSVQKQTPTGSTDAPQGSIRTATKLNNSTPYGPFSYCGMLAKPERHLVSSKDTSPVDQGQLKIYLLSETCHTRPYGPLPMFCQSNMRSGNRRVMLDYTGRAEVLLCRFNTVICNTGPTHARGTEWSMGAPDKPWTGRILYSLDIESVIGSTVPSNNHLGIAFLLDKGQAGRRGATNHPGVLAQDTSPRELHGCRKLTCLANVFIRGVTQHVNPAGSKVDAGQRHYRGHWRTPDNHSTMRVSRLTPLLVASGCLRRQQWASHVTDSTLPWGCVAVPAVMCGCCLPTHYHNGVRHRCIAVALVKAREQMVVECTIPNADHVVTLNGREYVHRKDLRTLFLNIEERTMQFSLPVPFRRERLRRLFSICFSYWVVWHARTVIARRICGQRFTAWVATRRFGTTLHPITAPAIVRLSILQLSGIQLCLLIYCSTRARQTGNSSKATKPDKDRTAPCRSHCRYIKDLIIQLLSYKATTLNRTIGQAILRSTRAPISLGDCAKLTGSMVKLTGPAIVRGQPVRPLYGRKSDHTPIERRQHKPSLLSCKVPHRCLKGSLDLVRDGQLRVIFGNTGILLVTAKNTGGNDENLWLCIQNAKGMKALSLRAVLQHARSGPGRNAMAQASLDRLRRPWDSSNMWSGPGTGLSCTCRTGYLSGSWRRPRVYFKVVHAPTIGFSYICGHVEPRGRLNYNLWYNIGCANIGVSARRDSVPSIGLEATRPFPYECLWCLMRAPRELPAAPRSMLRAPAAWPAFATQRLRIVLSMRFQSCVPYIILLWL\n"
          ]
        }
      ]
    },
    {
      "cell_type": "markdown",
      "source": [
        "####**<font color=crimson>TASK 21.3 Commit to GitHub**</font>"
      ],
      "metadata": {
        "id": "dvtR4N7L6sZ_"
      }
    },
    {
      "cell_type": "markdown",
      "source": [
        "#<font color=blue>**P22.**</font> SeqIO – a function to parse( ) sequence files"
      ],
      "metadata": {
        "id": "bDJqtRiX3fEG"
      }
    },
    {
      "cell_type": "markdown",
      "source": [
        "####**TASK BP 22.1** Read in the practice dataset from Rosalind #9 and print the id of each sequence in the file."
      ],
      "metadata": {
        "id": "VKyMhLjx7nIo"
      }
    },
    {
      "cell_type": "code",
      "source": [
        "from Bio.SeqIO import parse\n",
        "\n",
        "for seq_record in parse(\"practice.txt\", \"fasta\"):\n",
        "    print (seq_record.id)\n",
        "    print (seq_record.seq)\n",
        "    print (len(seq_record.seq))\n",
        "    print (seq_record)"
      ],
      "metadata": {
        "colab": {
          "base_uri": "https://localhost:8080/"
        },
        "id": "xUi3JEoh7yJ6",
        "outputId": "b37e9eac-dbaa-47fb-967f-d7b02257022f"
      },
      "execution_count": 77,
      "outputs": [
        {
          "output_type": "stream",
          "name": "stdout",
          "text": [
            "Rosalind_6404\n",
            "CCTGCGGAAGATCGGCACTAGAATAGCCAGAACCGTTTCTCTGAGGCTTCCGGCCTTCCCTCCCACTAATAATTCTGAGG\n",
            "80\n",
            "ID: Rosalind_6404\n",
            "Name: Rosalind_6404\n",
            "Description: Rosalind_6404\n",
            "Number of features: 0\n",
            "Seq('CCTGCGGAAGATCGGCACTAGAATAGCCAGAACCGTTTCTCTGAGGCTTCCGGC...AGG')\n",
            "Rosalind_5959\n",
            "CCATCGGTAGCGCATCCTTAGTCCAATTAAGTCCCTATCCAGGCGCTCCGCCGAAGGTCTATATCCATTTGTCAGCAGACACGC\n",
            "84\n",
            "ID: Rosalind_5959\n",
            "Name: Rosalind_5959\n",
            "Description: Rosalind_5959\n",
            "Number of features: 0\n",
            "Seq('CCATCGGTAGCGCATCCTTAGTCCAATTAAGTCCCTATCCAGGCGCTCCGCCGA...CGC')\n",
            "Rosalind_0808\n",
            "CCACCCTCGTGGTATGGCTAGGCATTCAGGAACCGGAGAACGCTTCAGACCAGCCCGGACTGGGAACCTGCGGGCAGTAGGTGGAAT\n",
            "87\n",
            "ID: Rosalind_0808\n",
            "Name: Rosalind_0808\n",
            "Description: Rosalind_0808\n",
            "Number of features: 0\n",
            "Seq('CCACCCTCGTGGTATGGCTAGGCATTCAGGAACCGGAGAACGCTTCAGACCAGC...AAT')\n"
          ]
        }
      ]
    },
    {
      "cell_type": "markdown",
      "source": [
        "#<font color=blue>**P23.**</font> SeqUtils.gc_fraction( ) – a function to compute GC content"
      ],
      "metadata": {
        "id": "SAjUYBpe3pwi"
      }
    },
    {
      "cell_type": "markdown",
      "source": [
        "####**TASK P23.1** Modify the script from TASK P22.1 so that it prints the GC content for each sequence in the file"
      ],
      "metadata": {
        "id": "kEjUu8HfHniC"
      }
    },
    {
      "cell_type": "markdown",
      "source": [
        "####**TASK P23.2** <font color=orange> **Complete Rosalind #9  Computing GC Content**</font>"
      ],
      "metadata": {
        "id": "nJeXcQR7HwOf"
      }
    },
    {
      "cell_type": "code",
      "source": [
        "from Bio.SeqUtils import gc_fraction\n",
        "\n",
        "fasta_data = \"\"\">Rosalind_6404\n",
        "CCTGCGGAAGATCGGCACTAGAATAGCCAGAACCGTTTCTCTGAGGCTTCCGGCCTTCCC\n",
        "TCCCACTAATAATTCTGAGG\n",
        ">Rosalind_5959\n",
        "CCATCGGTAGCGCATCCTTAGTCCAATTAAGTCCCTATCCAGGCGCTCCGCCGAAGGTCT\n",
        "ATATCCATTTGTCAGCAGACACGC\n",
        ">Rosalind_0808\n",
        "CCACCCTCGTGGTATGGCTAGGCATTCAGGAACCGGAGAACGCTTCAGACCAGCCCGGAC\n",
        "TGGGAACCTGCGGGCAGTAGGTGGAAT\"\"\"\n",
        "\n",
        "# Parse FASTA data\n",
        "sequences = {}\n",
        "current_label = \"\"\n",
        "for line in fasta_data.splitlines():\n",
        "    if line.startswith(\">\"):\n",
        "        current_label = line[1:]\n",
        "        sequences[current_label] = \"\"\n",
        "    else:\n",
        "        sequences[current_label] += line.strip()\n",
        "\n",
        "max_label = \"\"\n",
        "max_gc = 0\n",
        "for label, seq in sequences.items():\n",
        "    gc = gc_fraction(seq) * 100  # gc_fraction returns a fraction\n",
        "    if gc > max_gc:\n",
        "        max_gc = gc\n",
        "        max_label = label\n",
        "\n",
        "# Print the result\n",
        "print(max_label)\n",
        "print(f\"{max_gc:.6f}\")"
      ],
      "metadata": {
        "colab": {
          "base_uri": "https://localhost:8080/"
        },
        "id": "PvKZQYFBTmvw",
        "outputId": "5891c0aa-14f5-48b5-bd5a-9cfe017c6c0c"
      },
      "execution_count": 78,
      "outputs": [
        {
          "output_type": "stream",
          "name": "stdout",
          "text": [
            "Rosalind_0808\n",
            "60.919540\n"
          ]
        }
      ]
    },
    {
      "cell_type": "markdown",
      "source": [
        "####**<font color=crimson>TASK 23.3 Commit to GitHub**</font>"
      ],
      "metadata": {
        "id": "gavUUL39INzP"
      }
    },
    {
      "cell_type": "markdown",
      "source": [],
      "metadata": {
        "id": "Zf_OZq9R0dnq"
      }
    }
  ]
}